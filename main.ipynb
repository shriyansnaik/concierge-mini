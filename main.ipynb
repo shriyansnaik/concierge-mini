{
 "cells": [
  {
   "cell_type": "code",
   "execution_count": 1,
   "metadata": {},
   "outputs": [],
   "source": [
    "from intent import IntentClassifier\n",
    "from extract import Extractor\n",
    "from web_search import Internet\n",
    "from follow_up import FollowUpQuestionGenerator"
   ]
  },
  {
   "cell_type": "code",
   "execution_count": 2,
   "metadata": {},
   "outputs": [],
   "source": [
    "from openai import OpenAI"
   ]
  },
  {
   "cell_type": "code",
   "execution_count": 3,
   "metadata": {},
   "outputs": [
    {
     "data": {
      "text/plain": [
       "True"
      ]
     },
     "execution_count": 3,
     "metadata": {},
     "output_type": "execute_result"
    }
   ],
   "source": [
    "from dotenv import load_dotenv\n",
    "import os\n",
    "load_dotenv()"
   ]
  },
  {
   "cell_type": "code",
   "execution_count": 4,
   "metadata": {},
   "outputs": [],
   "source": [
    "llm = OpenAI(base_url=\"https://generativelanguage.googleapis.com/v1beta/openai/\", api_key=os.getenv(\"GEMINI_API_KEY\"))"
   ]
  },
  {
   "cell_type": "code",
   "execution_count": 5,
   "metadata": {},
   "outputs": [],
   "source": [
    "classifier = IntentClassifier(llm)\n",
    "extractor = Extractor(llm)\n",
    "web_browser = Internet(llm)\n",
    "generate_follow_up = FollowUpQuestionGenerator(llm)"
   ]
  },
  {
   "cell_type": "code",
   "execution_count": 6,
   "metadata": {},
   "outputs": [],
   "source": [
    "cab_request_query = \"book me a cab to swiggy office banglore from banglore airport. i need an SUV\"\n",
    "gifting_query = \"my moms birthday is coming up. i want to buy her a watch\"\n",
    "travel_query = \"i want to visit brazil this summer\"\n",
    "dining_query = \"Need a sunset-view table for two tonight; gluten-free menu a must\"\n",
    "other_query = \"i want to update my aadhar address\""
   ]
  },
  {
   "cell_type": "code",
   "execution_count": 7,
   "metadata": {},
   "outputs": [],
   "source": [
    "intent = classifier(dining_query)"
   ]
  },
  {
   "cell_type": "code",
   "execution_count": 1,
   "metadata": {},
   "outputs": [
    {
     "ename": "NameError",
     "evalue": "name 'intent' is not defined",
     "output_type": "error",
     "traceback": [
      "\u001b[31m---------------------------------------------------------------------------\u001b[39m",
      "\u001b[31mNameError\u001b[39m                                 Traceback (most recent call last)",
      "\u001b[36mCell\u001b[39m\u001b[36m \u001b[39m\u001b[32mIn[1]\u001b[39m\u001b[32m, line 3\u001b[39m\n\u001b[32m      1\u001b[39m res = \u001b[38;5;28;01mNone\u001b[39;00m\n\u001b[32m----> \u001b[39m\u001b[32m3\u001b[39m \u001b[38;5;28;01mif\u001b[39;00m \u001b[43mintent\u001b[49m[\u001b[33m'\u001b[39m\u001b[33mintent\u001b[39m\u001b[33m'\u001b[39m] == \u001b[33m'\u001b[39m\u001b[33mother\u001b[39m\u001b[33m'\u001b[39m:\n\u001b[32m      4\u001b[39m     res = web_browser(dining_query)\n\u001b[32m      5\u001b[39m \u001b[38;5;28;01melse\u001b[39;00m:\n",
      "\u001b[31mNameError\u001b[39m: name 'intent' is not defined"
     ]
    }
   ],
   "source": [
    "res = None\n",
    "\n",
    "if intent['intent'] == 'other':\n",
    "    res = web_browser(dining_query)\n",
    "else:\n",
    "    res, missing_required_fields = extractor(dining_query, intent['intent'])\n",
    "    print(res)\n",
    "    print(missing_required_fields)\n",
    "    if missing_required_fields:\n",
    "        follow_up_questions = generate_follow_up(dining_query, missing_required_fields)\n",
    "        res.update(intent)\n",
    "        res['follow_up_questions'] = follow_up_questions"
   ]
  },
  {
   "cell_type": "code",
   "execution_count": 9,
   "metadata": {},
   "outputs": [
    {
     "data": {
      "text/plain": [
       "{'key_entities': {'number_of_members': '2',\n",
       "  'date': 'tonight',\n",
       "  'time': '',\n",
       "  'location': '',\n",
       "  'cuisine': '',\n",
       "  'additional_info': {'view': 'sunset-view',\n",
       "   'dietary_restriction': 'gluten-free'}},\n",
       " 'intent': 'dining',\n",
       " 'intent_confidence': 0.95,\n",
       " 'follow_up_questions': ['What time would you like to book?',\n",
       "  'In what location are you looking for a table?',\n",
       "  'Besides gluten-free, what other cuisine types do you prefer?']}"
      ]
     },
     "execution_count": 9,
     "metadata": {},
     "output_type": "execute_result"
    }
   ],
   "source": [
    "res"
   ]
  },
  {
   "cell_type": "code",
   "execution_count": null,
   "metadata": {},
   "outputs": [],
   "source": []
  },
  {
   "cell_type": "code",
   "execution_count": null,
   "metadata": {},
   "outputs": [],
   "source": []
  }
 ],
 "metadata": {
  "kernelspec": {
   "display_name": "venv",
   "language": "python",
   "name": "python3"
  },
  "language_info": {
   "codemirror_mode": {
    "name": "ipython",
    "version": 3
   },
   "file_extension": ".py",
   "mimetype": "text/x-python",
   "name": "python",
   "nbconvert_exporter": "python",
   "pygments_lexer": "ipython3",
   "version": "3.13.3"
  }
 },
 "nbformat": 4,
 "nbformat_minor": 2
}
