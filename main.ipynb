{
 "cells": [
  {
   "cell_type": "code",
   "execution_count": 1,
   "metadata": {},
   "outputs": [],
   "source": [
    "from intent import IntentClassifier\n",
    "from extract import Extractor\n",
    "from web_search import Internet"
   ]
  },
  {
   "cell_type": "code",
   "execution_count": 2,
   "metadata": {},
   "outputs": [],
   "source": [
    "from openai import OpenAI"
   ]
  },
  {
   "cell_type": "code",
   "execution_count": 3,
   "metadata": {},
   "outputs": [
    {
     "data": {
      "text/plain": [
       "True"
      ]
     },
     "execution_count": 3,
     "metadata": {},
     "output_type": "execute_result"
    }
   ],
   "source": [
    "from dotenv import load_dotenv\n",
    "import os\n",
    "load_dotenv()"
   ]
  },
  {
   "cell_type": "code",
   "execution_count": 4,
   "metadata": {},
   "outputs": [],
   "source": [
    "llm = OpenAI(base_url=\"https://generativelanguage.googleapis.com/v1beta/openai/\", api_key=os.getenv(\"GEMINI_API_KEY\"))"
   ]
  },
  {
   "cell_type": "code",
   "execution_count": 5,
   "metadata": {},
   "outputs": [],
   "source": [
    "classifier = IntentClassifier(llm)\n",
    "extractor = Extractor(llm)\n",
    "web_browser = Internet(llm)"
   ]
  },
  {
   "cell_type": "code",
   "execution_count": 6,
   "metadata": {},
   "outputs": [],
   "source": [
    "cab_request_query = \"book me a cab to swiggy office banglore from banglore airport. i need an SUV\"\n",
    "gifting_query = \"my moms birthday is coming up. i want to buy her a watch\"\n",
    "travel_query = \"i want to visit brazil this summer\"\n",
    "dining_query = \"Need a sunset-view table for two tonight; gluten-free menu a must\"\n",
    "other_query = \"i want to update my aadhar address\""
   ]
  },
  {
   "cell_type": "code",
   "execution_count": 7,
   "metadata": {},
   "outputs": [],
   "source": [
    "intent = classifier(other_query)"
   ]
  },
  {
   "cell_type": "code",
   "execution_count": 8,
   "metadata": {},
   "outputs": [
    {
     "data": {
      "text/plain": [
       "'other'"
      ]
     },
     "execution_count": 8,
     "metadata": {},
     "output_type": "execute_result"
    }
   ],
   "source": [
    "intent['intent']"
   ]
  },
  {
   "cell_type": "code",
   "execution_count": 9,
   "metadata": {},
   "outputs": [
    {
     "name": "stdout",
     "output_type": "stream",
     "text": [
      "how to update address in aadhar card\n",
      "\n"
     ]
    },
    {
     "data": {
      "text/plain": [
       "[{'title': 'Aadhaar Update Service - Unique Identification Authority of India',\n",
       "  'href': 'https://uidai.gov.in/en/my-aadhaar/update-aadhaar.html',\n",
       "  'body': '1. The Proof of Address(POA) document should be a Valid document, as per document list available at List of Supporting Document 2. Document is in the name of the Aadhaar holder for whom update request is submitted. 3. Address details entered should match the address with the address mentioned in the document. 4.'},\n",
       " {'title': 'How To Change Address In Aadhaar Card Online? - ClearTax',\n",
       "  'href': 'https://cleartax.in/s/aadhar-card-address-change-online',\n",
       "  'body': \"UIDAI recommends updating your Aadhaar details every 10 years to maintain accuracy. Given below is the online address update process for your Aadhar card: Step 1: Login to myAadhaar portal by entering your Aadhaar number, captcha code and OTP. Step 2: After logging in, select the option 'Address Update' tab.\"},\n",
       " {'title': 'How to update address on Aadhaar card online: step-by-step guide',\n",
       "  'href': 'https://www.indiatoday.in/technology/tech-tips/story/how-to-update-address-on-aadhaar-card-online-step-by-step-guide-2284342-2022-10-12',\n",
       "  'body': \"To change or update the address in your Aadhaar you just have to login into the official website of UIDAI uidai.gov.in and click on 'Update your Aadhaar' under the 'My Aadhaar' menu. Let's take a detailed look at the step-by-step of changing or updating your address details on the Aadhaar card. How to change or update address on Aadhaar card\"},\n",
       " {'title': 'Aadhaar Card update for free online: Step-by-step guide to ... - Digit',\n",
       "  'href': 'https://www.digit.in/how-to/general/aadhaar-card-update-for-free-online-step-by-step-guide-to-change-address-name-and-more.html',\n",
       "  'body': 'Aadhaar update: Details that can be updated online. Users can only update selected demographic details online for free. They can update their name, date of birth (under certain limits), address ...'},\n",
       " {'title': 'How to Change Address in Aadhaar Card Online for Free?',\n",
       "  'href': 'https://www.gadgets360.com/how-to/features/how-to-change-address-in-aadhar-card-online-7285752',\n",
       "  'body': 'The Aadhaar card, a 12-digit unique identification number issued by the Unique Identification Authority of India (UIDAI), is an important document for accessing a wide range of government services and benefits. Recently, UIDAI extended the deadline for free Aadhaar updates to June 14, 2025, allowing citizens the time to update their Aadhaar card as soon as possible.'}]"
      ]
     },
     "execution_count": 9,
     "metadata": {},
     "output_type": "execute_result"
    }
   ],
   "source": [
    "web_browser(other_query)"
   ]
  },
  {
   "cell_type": "code",
   "execution_count": 10,
   "metadata": {},
   "outputs": [
    {
     "name": "stdout",
     "output_type": "stream",
     "text": [
      "[{'title': 'Welcome to Python.org', 'href': 'https://www.python.org/', 'body': 'Python is a versatile and easy-to-learn programming language that lets you work quickly and integrate systems more effectively. Learn Python basics, download the latest version, access documentation, find jobs, events, success stories and more on the official website.'}, {'title': 'Python (programming language) - Wikipedia', 'href': 'https://en.wikipedia.org/wiki/Python_(programming_language)', 'body': 'Python is a high-level, general-purpose programming language.Its design philosophy emphasizes code readability with the use of significant indentation. [33]Python is dynamically type-checked and garbage-collected.It supports multiple programming paradigms, including structured (particularly procedural), object-oriented and functional programming.It is often described as a \"batteries included ...'}, {'title': 'Python Tutorial - W3Schools', 'href': 'https://www.w3schools.com/python/', 'body': 'W3Schools offers a comprehensive and interactive Python tutorial with examples, exercises, quizzes, and references. Learn how to create web applications, handle files and databases, and get certified by completing the PYTHON course.'}, {'title': 'Python Tutorial | Learn Python Programming Language - GeeksforGeeks', 'href': 'https://www.geeksforgeeks.org/python-programming-language-tutorial/', 'body': 'A comprehensive guide to learn Python, a popular and versatile programming language for web development, data science, automation and more. Covering basics, functions, data structures, OOPs, exceptions, file handling, databases, packages, data science and web development with Python.'}, {'title': 'The Python Tutorial — Python 3.13.3 documentation', 'href': 'https://docs.python.org/3/tutorial/index.html', 'body': 'This tutorial introduces the basic concepts and features of the Python language and system, with examples and exercises. It covers topics such as data structures, modules, classes, exceptions, and more.'}]\n"
     ]
    }
   ],
   "source": [
    "from duckduckgo_search import DDGS\n",
    "\n",
    "results = DDGS().text(\"python programming\", max_results=5)\n",
    "print(results)\n"
   ]
  },
  {
   "cell_type": "code",
   "execution_count": 21,
   "metadata": {},
   "outputs": [
    {
     "ename": "KeyError",
     "evalue": "'other'",
     "output_type": "error",
     "traceback": [
      "\u001b[31m---------------------------------------------------------------------------\u001b[39m",
      "\u001b[31mKeyError\u001b[39m                                  Traceback (most recent call last)",
      "\u001b[36mCell\u001b[39m\u001b[36m \u001b[39m\u001b[32mIn[21]\u001b[39m\u001b[32m, line 1\u001b[39m\n\u001b[32m----> \u001b[39m\u001b[32m1\u001b[39m res = \u001b[43mextractor\u001b[49m\u001b[43m(\u001b[49m\u001b[43mother_query\u001b[49m\u001b[43m,\u001b[49m\u001b[43m \u001b[49m\u001b[43mintent\u001b[49m\u001b[43m[\u001b[49m\u001b[33;43m'\u001b[39;49m\u001b[33;43mintent\u001b[39;49m\u001b[33;43m'\u001b[39;49m\u001b[43m]\u001b[49m\u001b[43m)\u001b[49m\n\u001b[32m      2\u001b[39m res\n",
      "\u001b[36mFile \u001b[39m\u001b[32mc:\\00 My Files\\genai\\concierge-mini\\extract.py:53\u001b[39m, in \u001b[36mExtractor.__call__\u001b[39m\u001b[34m(self, query, intent)\u001b[39m\n\u001b[32m     52\u001b[39m \u001b[38;5;28;01mdef\u001b[39;00m\u001b[38;5;250m \u001b[39m\u001b[34m__call__\u001b[39m(\u001b[38;5;28mself\u001b[39m, query, intent):\n\u001b[32m---> \u001b[39m\u001b[32m53\u001b[39m     extraction_prompt = \u001b[43mcreate_extraction_prompt\u001b[49m\u001b[43m(\u001b[49m\u001b[43mintent\u001b[49m\u001b[43m)\u001b[49m\n\u001b[32m     54\u001b[39m     response = \u001b[38;5;28mself\u001b[39m.llm.chat.completions.create(\n\u001b[32m     55\u001b[39m         model=\u001b[33m\"\u001b[39m\u001b[33mgemini-2.0-flash\u001b[39m\u001b[33m\"\u001b[39m,\n\u001b[32m     56\u001b[39m         messages=[{\u001b[33m\"\u001b[39m\u001b[33mrole\u001b[39m\u001b[33m\"\u001b[39m: \u001b[33m\"\u001b[39m\u001b[33msystem\u001b[39m\u001b[33m\"\u001b[39m, \u001b[33m\"\u001b[39m\u001b[33mcontent\u001b[39m\u001b[33m\"\u001b[39m: extraction_prompt}, {\u001b[33m\"\u001b[39m\u001b[33mrole\u001b[39m\u001b[33m\"\u001b[39m: \u001b[33m\"\u001b[39m\u001b[33muser\u001b[39m\u001b[33m\"\u001b[39m, \u001b[33m\"\u001b[39m\u001b[33mcontent\u001b[39m\u001b[33m\"\u001b[39m: query}],\n\u001b[32m     57\u001b[39m     )\n\u001b[32m     58\u001b[39m     res = response.choices[\u001b[32m0\u001b[39m].message.content\n",
      "\u001b[36mFile \u001b[39m\u001b[32mc:\\00 My Files\\genai\\concierge-mini\\extract.py:22\u001b[39m, in \u001b[36mcreate_extraction_prompt\u001b[39m\u001b[34m(intent)\u001b[39m\n\u001b[32m     16\u001b[39m \u001b[38;5;28;01mdef\u001b[39;00m\u001b[38;5;250m \u001b[39m\u001b[34mcreate_extraction_prompt\u001b[39m(intent):\n\u001b[32m     17\u001b[39m     extraction_prompt = \u001b[33mf\u001b[39m\u001b[33m\"\"\"\u001b[39m\u001b[33mYou are an expert at extracting information from user\u001b[39m\u001b[33m'\u001b[39m\u001b[33ms query.\u001b[39m\n\u001b[32m     18\u001b[39m \n\u001b[32m     19\u001b[39m \u001b[33mGiven a user\u001b[39m\u001b[33m'\u001b[39m\u001b[33ms query, extract the key entities from the user\u001b[39m\u001b[33m'\u001b[39m\u001b[33ms query pertaining to booking a cab.\u001b[39m\n\u001b[32m     20\u001b[39m \n\u001b[32m     21\u001b[39m \u001b[33mRequired Fields in user\u001b[39m\u001b[33m'\u001b[39m\u001b[33ms query:\u001b[39m\n\u001b[32m---> \u001b[39m\u001b[32m22\u001b[39m \u001b[38;5;132;01m{\u001b[39;00m\u001b[33m\"\u001b[39m\u001b[38;5;130;01m\\n\u001b[39;00m\u001b[33m\"\u001b[39m.join([\u001b[33mf\u001b[39m\u001b[33m\"\u001b[39m\u001b[38;5;132;01m{\u001b[39;00mi+\u001b[32m1\u001b[39m\u001b[38;5;132;01m}\u001b[39;00m\u001b[33m. \u001b[39m\u001b[38;5;132;01m{\u001b[39;00mentity\u001b[38;5;132;01m}\u001b[39;00m\u001b[33m\"\u001b[39m\u001b[38;5;250m \u001b[39m\u001b[38;5;28;01mfor\u001b[39;00m\u001b[38;5;250m \u001b[39mi,\u001b[38;5;250m \u001b[39mentity\u001b[38;5;250m \u001b[39m\u001b[38;5;129;01min\u001b[39;00m\u001b[38;5;250m \u001b[39m\u001b[38;5;28menumerate\u001b[39m(\u001b[43mrequired_fields\u001b[49m\u001b[43m[\u001b[49m\u001b[43mintent\u001b[49m\u001b[43m]\u001b[49m)])\u001b[38;5;132;01m}\u001b[39;00m\n\u001b[32m     23\u001b[39m \n\u001b[32m     24\u001b[39m \u001b[33mIf the user has provided any additional information that is relevant to \u001b[39m\u001b[38;5;132;01m{\u001b[39;00mintent_description[intent]\u001b[38;5;132;01m}\u001b[39;00m\u001b[33m, you must extract it as well with appropriate key.\u001b[39m\n\u001b[32m     25\u001b[39m \n\u001b[32m     26\u001b[39m \u001b[33mIf the user has not provided required fields, you must ask follow up questions to get the values of the required fields. \u001b[39m\n\u001b[32m     27\u001b[39m \u001b[33mIf the provided information for a required field is ambiguous, you must ask follow up questions to get the specific information. For example, for a required field of date, the user might have said coming summer. In this case, you must ask for the specific date.\u001b[39m\n\u001b[32m     28\u001b[39m \u001b[33mWhen asking the follow up questions, you must use the required fields name in your question.\u001b[39m\n\u001b[32m     29\u001b[39m \n\u001b[32m     30\u001b[39m \u001b[33mYou must not ask follow up questions if the required fields are provided.\u001b[39m\n\u001b[32m     31\u001b[39m \n\u001b[32m     32\u001b[39m \u001b[33mYou must respond in below format with appropriate keys.\u001b[39m\n\u001b[32m     33\u001b[39m \n\u001b[32m     34\u001b[39m \u001b[38;5;130;01m{{\u001b[39;00m\n\u001b[32m     35\u001b[39m \u001b[33m  \u001b[39m\u001b[33m\"\u001b[39m\u001b[33mkey_entities\u001b[39m\u001b[33m\"\u001b[39m\u001b[33m: \u001b[39m\u001b[38;5;130;01m{{\u001b[39;00m\n\u001b[32m     36\u001b[39m \u001b[33m    \u001b[39m\u001b[38;5;132;01m{\u001b[39;00m\u001b[33m\"\u001b[39m\u001b[33m,\u001b[39m\u001b[38;5;130;01m\\n\u001b[39;00m\u001b[33m\"\u001b[39m.join([\u001b[33mf\u001b[39m\u001b[33m\"\u001b[39m\u001b[38;5;132;01m{\u001b[39;00mentity\u001b[38;5;132;01m}\u001b[39;00m\u001b[33m: value\u001b[39m\u001b[33m\"\u001b[39m\u001b[38;5;250m \u001b[39m\u001b[38;5;28;01mfor\u001b[39;00m\u001b[38;5;250m \u001b[39mentity\u001b[38;5;250m \u001b[39m\u001b[38;5;129;01min\u001b[39;00m\u001b[38;5;250m \u001b[39mrequired_fields[intent]])\u001b[38;5;132;01m}\u001b[39;00m\n\u001b[32m     37\u001b[39m \u001b[33m    \u001b[39m\u001b[33m\"\u001b[39m\u001b[33many_other_keys\u001b[39m\u001b[33m\"\u001b[39m\u001b[33m: value\u001b[39m\n\u001b[32m     38\u001b[39m \u001b[33m  \u001b[39m\u001b[38;5;130;01m}}\u001b[39;00m\u001b[33m,\u001b[39m\n\u001b[32m     39\u001b[39m \u001b[33m  \u001b[39m\u001b[33m\"\u001b[39m\u001b[33mfollow_up_questions\u001b[39m\u001b[33m\"\u001b[39m\u001b[33m: list  # only include follow up questions for required fields\u001b[39m\n\u001b[32m     40\u001b[39m \u001b[38;5;130;01m}}\u001b[39;00m\n\u001b[32m     41\u001b[39m \n\u001b[32m     42\u001b[39m \u001b[33mPlace empty strings/lists temporarily for values not found.\u001b[39m\n\u001b[32m     43\u001b[39m \n\u001b[32m     44\u001b[39m \u001b[33mIn case the key entities have all the required fields, you must return empty list in follow_up_questions\u001b[39m\n\u001b[32m     45\u001b[39m \u001b[33m    \u001b[39m\u001b[33m\"\"\"\u001b[39m\n\u001b[32m     46\u001b[39m     \u001b[38;5;28;01mreturn\u001b[39;00m extraction_prompt\n",
      "\u001b[31mKeyError\u001b[39m: 'other'"
     ]
    }
   ],
   "source": [
    "res = extractor(other_query, intent['intent'])\n",
    "res"
   ]
  },
  {
   "cell_type": "code",
   "execution_count": 10,
   "metadata": {},
   "outputs": [],
   "source": [
    "res.update(intent)"
   ]
  },
  {
   "cell_type": "code",
   "execution_count": 11,
   "metadata": {},
   "outputs": [
    {
     "data": {
      "text/plain": [
       "{'key_entities': {'number_of_members': '2',\n",
       "  'date': 'tonight',\n",
       "  'time': 'sunset',\n",
       "  'location': '',\n",
       "  'cuisine': '',\n",
       "  'menu': 'gluten-free'},\n",
       " 'follow_up_questions': ['Could you please provide the location?',\n",
       "  'Do you have any cuisine preferences?'],\n",
       " 'intent': 'dining',\n",
       " 'intent_confidence': 0.95}"
      ]
     },
     "execution_count": 11,
     "metadata": {},
     "output_type": "execute_result"
    }
   ],
   "source": [
    "res"
   ]
  },
  {
   "cell_type": "code",
   "execution_count": null,
   "metadata": {},
   "outputs": [],
   "source": []
  }
 ],
 "metadata": {
  "kernelspec": {
   "display_name": "venv",
   "language": "python",
   "name": "python3"
  },
  "language_info": {
   "codemirror_mode": {
    "name": "ipython",
    "version": 3
   },
   "file_extension": ".py",
   "mimetype": "text/x-python",
   "name": "python",
   "nbconvert_exporter": "python",
   "pygments_lexer": "ipython3",
   "version": "3.13.3"
  }
 },
 "nbformat": 4,
 "nbformat_minor": 2
}
